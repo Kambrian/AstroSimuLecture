{
 "cells": [
  {
   "cell_type": "code",
   "execution_count": 1,
   "metadata": {
    "execution": {
     "iopub.execute_input": "2022-05-03T05:19:52.382955Z",
     "iopub.status.busy": "2022-05-03T05:19:52.382789Z",
     "iopub.status.idle": "2022-05-03T05:19:52.777001Z",
     "shell.execute_reply": "2022-05-03T05:19:52.776392Z",
     "shell.execute_reply.started": "2022-05-03T05:19:52.382905Z"
    },
    "tags": []
   },
   "outputs": [],
   "source": [
    "%pylab widget\n",
    "\n",
    "import copy\n",
    "from matplotlib import animation"
   ]
  },
  {
   "cell_type": "code",
   "execution_count": 4,
   "metadata": {
    "execution": {
     "iopub.execute_input": "2022-05-03T05:19:52.794332Z",
     "iopub.status.busy": "2022-05-03T05:19:52.794189Z",
     "iopub.status.idle": "2022-05-03T05:19:52.808543Z",
     "shell.execute_reply": "2022-05-03T05:19:52.808072Z",
     "shell.execute_reply.started": "2022-05-03T05:19:52.794307Z"
    },
    "tags": []
   },
   "outputs": [],
   "source": [
    "class Particles:\n",
    "    def __init__(self, n, g=1e-5, softening=0.1, boxsize=1, periodic=False, seed=12345):\n",
    "        #book-keeping\n",
    "        self.n=n\n",
    "        self.g=g\n",
    "        self.softening=softening\n",
    "        self.boxsize=1\n",
    "        self.periodic=periodic\n",
    "        #initialize randomly with seed \n",
    "        self.rand=np.random.default_rng(seed)\n",
    "        self.X=self.rand.uniform(size=[n, 2])\n",
    "        self.V=np.zeros_like(self.X)\n",
    "        self.a=self.acc()\n",
    "        \n",
    "    def walk(self):\n",
    "        self.X+=self.V+0.5*self.a\n",
    "        self.V+=self.a\n",
    "        self.a=self.acc()\n",
    "        if self.periodic:\n",
    "            self.X%=self.boxsize   \n",
    "    \n",
    "    def acc(self):\n",
    "        boxhalf=self.boxsize*0.5\n",
    "        a=np.zeros_like(self.X)\n",
    "        for i in range(self.n-1):\n",
    "            for j in range(i+1, self.n):\n",
    "                dx=self.X[j]-self.X[i]\n",
    "                if self.periodic:\n",
    "                    dx%=self.boxsize\n",
    "                    dx[dx<-boxhalf]+=self.boxsize\n",
    "                    dx[dx>boxhalf]-=self.boxsize\n",
    "                r=np.sqrt((dx**2).sum())\n",
    "                a_ij=self.g*dx/(r+self.softening)**3\n",
    "                a[i]+=a_ij\n",
    "                a[j]+=-a_ij\n",
    "        return a"
   ]
  },
  {
   "cell_type": "code",
   "execution_count": 5,
   "metadata": {
    "execution": {
     "iopub.execute_input": "2022-05-03T05:19:52.809407Z",
     "iopub.status.busy": "2022-05-03T05:19:52.809163Z",
     "iopub.status.idle": "2022-05-03T05:19:52.820907Z",
     "shell.execute_reply": "2022-05-03T05:19:52.820443Z",
     "shell.execute_reply.started": "2022-05-03T05:19:52.809389Z"
    },
    "tags": []
   },
   "outputs": [],
   "source": [
    "def animate(particles):\n",
    "    # First set up the figure\n",
    "    fig = plt.figure()\n",
    "    ax = plt.axes(xlim=(0, particles.boxsize), ylim=(0, particles.boxsize))\n",
    "    p=copy.deepcopy(particles)\n",
    "    line1, =ax.plot(p.X.T[0], p.X.T[1], 'bo', mfc='none')\n",
    "    ax.set_title('t=0')\n",
    "    \n",
    "    def init():\n",
    "        nonlocal p\n",
    "        p=copy.deepcopy(particles) #reset p\n",
    "        return line1\n",
    "\n",
    "    #how to evolve the plot\n",
    "    def draw_next(i):\n",
    "        p.walk()\n",
    "        line1.set_data(p.X.T[0], p.X.T[1])\n",
    "        ax.set_title('t=%d'%i)\n",
    "        return line1\n",
    "    \n",
    "    # call the animator.  blit=True means only re-draw the parts that have changed.\n",
    "    movie = animation.FuncAnimation(fig, draw_next, init_func=init,\n",
    "                                   frames=150, interval=10, blit=True)\n",
    "\n",
    "    return movie"
   ]
  },
  {
   "cell_type": "code",
   "execution_count": 6,
   "metadata": {
    "execution": {
     "iopub.execute_input": "2022-05-03T05:19:52.821945Z",
     "iopub.status.busy": "2022-05-03T05:19:52.821537Z",
     "iopub.status.idle": "2022-05-03T05:19:52.836374Z",
     "shell.execute_reply": "2022-05-03T05:19:52.835884Z",
     "shell.execute_reply.started": "2022-05-03T05:19:52.821926Z"
    },
    "tags": []
   },
   "outputs": [],
   "source": [
    "p=Particles(20, g=1e-5, softening=0.1, periodic=True ,seed=321)"
   ]
  },
  {
   "cell_type": "code",
   "execution_count": 7,
   "metadata": {
    "execution": {
     "iopub.execute_input": "2022-05-03T05:19:52.837318Z",
     "iopub.status.busy": "2022-05-03T05:19:52.837020Z",
     "iopub.status.idle": "2022-05-03T05:19:52.875376Z",
     "shell.execute_reply": "2022-05-03T05:19:52.874907Z",
     "shell.execute_reply.started": "2022-05-03T05:19:52.837294Z"
    },
    "tags": []
   },
   "outputs": [
    {
     "data": {
      "application/vnd.jupyter.widget-view+json": {
       "model_id": "460e63a5e81e4c5cbc50b7e411270e34",
       "version_major": 2,
       "version_minor": 0
      },
      "text/plain": [
       "Canvas(toolbar=Toolbar(toolitems=[('Home', 'Reset original view', 'home', 'home'), ('Back', 'Back to previous …"
      ]
     },
     "metadata": {},
     "output_type": "display_data"
    }
   ],
   "source": [
    "m=animate(p)\n",
    "#m.save('../plots/GravityDemo.gif', fps=10)#, extra_args=['-vcodec', 'libx264'])"
   ]
  },
  {
   "cell_type": "code",
   "execution_count": 9,
   "metadata": {
    "execution": {
     "iopub.execute_input": "2022-05-03T05:20:34.679262Z",
     "iopub.status.busy": "2022-05-03T05:20:34.679042Z",
     "iopub.status.idle": "2022-05-03T05:20:45.190331Z",
     "shell.execute_reply": "2022-05-03T05:20:45.189854Z",
     "shell.execute_reply.started": "2022-05-03T05:20:34.679236Z"
    },
    "tags": []
   },
   "outputs": [
    {
     "name": "stderr",
     "output_type": "stream",
     "text": [
      "MovieWriter ffmpeg unavailable; using Pillow instead.\n"
     ]
    }
   ],
   "source": [
    "m.save('../plots/GravityDemo.gif', fps=10)#, extra_args=['-vcodec', 'libx264'])"
   ]
  }
 ],
 "metadata": {
  "kernelspec": {
   "display_name": "mamba-python3",
   "language": "python",
   "name": "mamba-python3"
  },
  "language_info": {
   "codemirror_mode": {
    "name": "ipython",
    "version": 3
   },
   "file_extension": ".py",
   "mimetype": "text/x-python",
   "name": "python",
   "nbconvert_exporter": "python",
   "pygments_lexer": "ipython3",
   "version": "3.7.10"
  }
 },
 "nbformat": 4,
 "nbformat_minor": 4
}
