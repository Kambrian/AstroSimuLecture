{
 "cells": [
  {
   "cell_type": "code",
   "execution_count": 1,
   "metadata": {
    "execution": {
     "iopub.execute_input": "2022-05-02T03:30:23.733355Z",
     "iopub.status.busy": "2022-05-02T03:30:23.733012Z",
     "iopub.status.idle": "2022-05-02T03:30:24.204271Z",
     "shell.execute_reply": "2022-05-02T03:30:24.203814Z",
     "shell.execute_reply.started": "2022-05-02T03:30:23.733281Z"
    },
    "tags": []
   },
   "outputs": [
    {
     "name": "stdout",
     "output_type": "stream",
     "text": [
      "Populating the interactive namespace from numpy and matplotlib\n"
     ]
    }
   ],
   "source": [
    "%pylab widget"
   ]
  },
  {
   "cell_type": "code",
   "execution_count": 3,
   "metadata": {
    "execution": {
     "iopub.execute_input": "2022-05-02T04:02:30.503583Z",
     "iopub.status.busy": "2022-05-02T04:02:30.503229Z",
     "iopub.status.idle": "2022-05-02T04:02:30.506390Z",
     "shell.execute_reply": "2022-05-02T04:02:30.505944Z",
     "shell.execute_reply.started": "2022-05-02T04:02:30.503556Z"
    }
   },
   "outputs": [],
   "source": [
    "from matplotlib import animation"
   ]
  },
  {
   "cell_type": "code",
   "execution_count": 2,
   "metadata": {
    "execution": {
     "iopub.execute_input": "2022-05-02T04:02:26.502533Z",
     "iopub.status.busy": "2022-05-02T04:02:26.502181Z",
     "iopub.status.idle": "2022-05-02T04:02:26.506806Z",
     "shell.execute_reply": "2022-05-02T04:02:26.506369Z",
     "shell.execute_reply.started": "2022-05-02T04:02:26.502509Z"
    }
   },
   "outputs": [],
   "source": [
    "class Particles:\n",
    "    def __init__(self, n, scatter=0.01, boxsize=1, periodic=False):\n",
    "        #book-keeping\n",
    "        self.n=n\n",
    "        self.scatter=scatter\n",
    "        self.boxsize=1\n",
    "        self.periodic=periodic\n",
    "        #initialize randomly  \n",
    "        self.X=np.random.uniform(size=[2,n]) \n",
    "\n",
    "    def walk(self):\n",
    "        step=np.random.normal(0, self.scatter, [2,self.n]) #generate a random step\n",
    "        self.X+=step\n",
    "        if self.periodic:\n",
    "            self.X%=self.boxsize   #periodic boundary"
   ]
  },
  {
   "cell_type": "code",
   "execution_count": 4,
   "metadata": {
    "execution": {
     "iopub.execute_input": "2022-05-02T04:02:34.700969Z",
     "iopub.status.busy": "2022-05-02T04:02:34.700653Z",
     "iopub.status.idle": "2022-05-02T04:02:34.705777Z",
     "shell.execute_reply": "2022-05-02T04:02:34.705239Z",
     "shell.execute_reply.started": "2022-05-02T04:02:34.700945Z"
    }
   },
   "outputs": [],
   "source": [
    "def animate(p):\n",
    "    # First set up the figure\n",
    "    fig = plt.figure()\n",
    "    ax = plt.axes(xlim=(0, p.boxsize), ylim=(0, p.boxsize))\n",
    "    #plt.xticks([])\n",
    "    #plt.yticks([])\n",
    "    #plt.axis('off')\n",
    "    line, = ax.plot(p.X[0], p.X[1], '.') \n",
    "\n",
    "    #how to evolve the plot\n",
    "    def draw_next(i):\n",
    "        p.walk()\n",
    "        line.set_data(p.X[0], p.X[1])\n",
    "        return line\n",
    "    \n",
    "    # call the animator.  blit=True means only re-draw the parts that have changed.\n",
    "    movie = animation.FuncAnimation(fig, draw_next, \n",
    "                                   frames=200, interval=10, blit=True)\n",
    "\n",
    "    return movie"
   ]
  },
  {
   "cell_type": "code",
   "execution_count": 5,
   "metadata": {
    "execution": {
     "iopub.execute_input": "2022-05-02T04:03:08.729418Z",
     "iopub.status.busy": "2022-05-02T04:03:08.729111Z",
     "iopub.status.idle": "2022-05-02T04:03:08.732615Z",
     "shell.execute_reply": "2022-05-02T04:03:08.732096Z",
     "shell.execute_reply.started": "2022-05-02T04:03:08.729395Z"
    }
   },
   "outputs": [],
   "source": [
    "p=Particles(10, scatter=0.01, periodic=True)"
   ]
  },
  {
   "cell_type": "code",
   "execution_count": 6,
   "metadata": {
    "execution": {
     "iopub.execute_input": "2022-05-02T04:03:19.624202Z",
     "iopub.status.busy": "2022-05-02T04:03:19.623891Z",
     "iopub.status.idle": "2022-05-02T04:03:19.656182Z",
     "shell.execute_reply": "2022-05-02T04:03:19.655666Z",
     "shell.execute_reply.started": "2022-05-02T04:03:19.624179Z"
    }
   },
   "outputs": [
    {
     "data": {
      "application/vnd.jupyter.widget-view+json": {
       "model_id": "91747ecd2a4a4edcb78c6a216dd48c20",
       "version_major": 2,
       "version_minor": 0
      },
      "text/plain": [
       "Canvas(toolbar=Toolbar(toolitems=[('Home', 'Reset original view', 'home', 'home'), ('Back', 'Back to previous …"
      ]
     },
     "metadata": {},
     "output_type": "display_data"
    }
   ],
   "source": [
    "m=animate(p)"
   ]
  },
  {
   "cell_type": "code",
   "execution_count": 7,
   "metadata": {
    "execution": {
     "iopub.execute_input": "2022-05-02T05:02:51.594541Z",
     "iopub.status.busy": "2022-05-02T05:02:51.594363Z",
     "iopub.status.idle": "2022-05-02T05:02:51.598353Z",
     "shell.execute_reply": "2022-05-02T05:02:51.597900Z",
     "shell.execute_reply.started": "2022-05-02T05:02:51.594512Z"
    },
    "tags": []
   },
   "outputs": [],
   "source": [
    "m.save('Brownian.gif', fps=30, extra_args=['-vcodec', 'libx264'])"
   ]
  }
 ],
 "metadata": {
  "kernelspec": {
   "display_name": "mamba-python3",
   "language": "python",
   "name": "mamba-python3"
  },
  "language_info": {
   "codemirror_mode": {
    "name": "ipython",
    "version": 3
   },
   "file_extension": ".py",
   "mimetype": "text/x-python",
   "name": "python",
   "nbconvert_exporter": "python",
   "pygments_lexer": "ipython3",
   "version": "3.7.10"
  }
 },
 "nbformat": 4,
 "nbformat_minor": 4
}
