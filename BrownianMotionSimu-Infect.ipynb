{
 "cells": [
  {
   "cell_type": "code",
   "execution_count": 1,
   "metadata": {
    "execution": {
     "iopub.execute_input": "2022-05-02T09:47:06.887677Z",
     "iopub.status.busy": "2022-05-02T09:47:06.887306Z",
     "iopub.status.idle": "2022-05-02T09:47:07.325244Z",
     "shell.execute_reply": "2022-05-02T09:47:07.324601Z",
     "shell.execute_reply.started": "2022-05-02T09:47:06.887597Z"
    },
    "tags": []
   },
   "outputs": [
    {
     "name": "stdout",
     "output_type": "stream",
     "text": [
      "Populating the interactive namespace from numpy and matplotlib\n"
     ]
    }
   ],
   "source": [
    "%pylab widget"
   ]
  },
  {
   "cell_type": "code",
   "execution_count": 2,
   "metadata": {
    "execution": {
     "iopub.execute_input": "2022-05-02T09:47:07.326819Z",
     "iopub.status.busy": "2022-05-02T09:47:07.326309Z",
     "iopub.status.idle": "2022-05-02T09:47:07.329351Z",
     "shell.execute_reply": "2022-05-02T09:47:07.328852Z",
     "shell.execute_reply.started": "2022-05-02T09:47:07.326796Z"
    },
    "tags": []
   },
   "outputs": [],
   "source": [
    "import copy"
   ]
  },
  {
   "cell_type": "code",
   "execution_count": 3,
   "metadata": {
    "execution": {
     "iopub.execute_input": "2022-05-02T09:47:07.561945Z",
     "iopub.status.busy": "2022-05-02T09:47:07.561351Z",
     "iopub.status.idle": "2022-05-02T09:47:07.564460Z",
     "shell.execute_reply": "2022-05-02T09:47:07.563942Z",
     "shell.execute_reply.started": "2022-05-02T09:47:07.561921Z"
    },
    "tags": []
   },
   "outputs": [],
   "source": [
    "from matplotlib import animation"
   ]
  },
  {
   "cell_type": "code",
   "execution_count": 4,
   "metadata": {
    "execution": {
     "iopub.execute_input": "2022-05-02T09:47:07.833816Z",
     "iopub.status.busy": "2022-05-02T09:47:07.833509Z",
     "iopub.status.idle": "2022-05-02T09:47:07.900464Z",
     "shell.execute_reply": "2022-05-02T09:47:07.899948Z",
     "shell.execute_reply.started": "2022-05-02T09:47:07.833792Z"
    },
    "tags": []
   },
   "outputs": [],
   "source": [
    "from scipy.spatial import KDTree"
   ]
  },
  {
   "cell_type": "code",
   "execution_count": 34,
   "metadata": {
    "execution": {
     "iopub.execute_input": "2022-05-02T10:05:19.582678Z",
     "iopub.status.busy": "2022-05-02T10:05:19.582518Z",
     "iopub.status.idle": "2022-05-02T10:05:19.593140Z",
     "shell.execute_reply": "2022-05-02T10:05:19.592740Z",
     "shell.execute_reply.started": "2022-05-02T10:05:19.582651Z"
    },
    "tags": []
   },
   "outputs": [],
   "source": [
    "class Particles:\n",
    "    def __init__(self, n, scatter=0.01, boxsize=1, periodic=False, seed=12345):\n",
    "        #book-keeping\n",
    "        self.n=n\n",
    "        self.scatter=scatter\n",
    "        self.boxsize=1\n",
    "        self.periodic=periodic\n",
    "        #initialize randomly with seed \n",
    "        self.rand=np.random.default_rng(seed)\n",
    "        self.X=self.rand.uniform(size=[2,n])\n",
    "        self.Infected=np.zeros(self.n, dtype=int) #0: healthy; 1: primary source; 2: secondary\n",
    "        self.infect_dist=0.\n",
    "\n",
    "    def walk(self):\n",
    "        step=self.rand.normal(0, self.scatter, [2,self.n]) #generate a random step\n",
    "        self.X+=step\n",
    "        if self.periodic:\n",
    "            self.X%=self.boxsize   #periodic boundary\n",
    "    \n",
    "    def build_tree(self):\n",
    "        if self.periodic:\n",
    "            self.tree=KDTree(self.X.T, boxsize=self.boxsize)\n",
    "        else:\n",
    "            self.tree=KDTree(self.X.T)\n",
    "    \n",
    "    def spread_from(self, i, dist):\n",
    "        '''spread the infection from particle i'''\n",
    "        #ngbrs=self.tree.query_ball_point(self.X.T[i], dist)\n",
    "        ngbrs=self.tree.query_ball_point(self.X.T[i], dist, workers=4)\n",
    "        for j in ngbrs:\n",
    "            if self.Infected[j]<2: #not freshly infected\n",
    "                self.Infected[j]=2 #tag as secondary infection\n",
    "                self.spread_from(j, dist)\n",
    "        \n",
    "    def infect(self):\n",
    "        '''tag all particles within dist from infected particles as infected'''\n",
    "        if self.infect_dist==0. or np.all(self.Infected==0):\n",
    "            return\n",
    "    \n",
    "        self.build_tree()\n",
    "        self.Infected[self.Infected>0]=1 #set all infected as primary\n",
    "        for i in range(self.n):\n",
    "            if self.Infected[i]==1: #primary\n",
    "                self.spread_from(i, self.infect_dist)\n",
    "                \n",
    "    def seed_infection(self, seeds=[0], dist=0.1):\n",
    "        '''initialize the infection, with particles listed in seeds get infected as well as their close neighbours within dist'''\n",
    "        self.Infected=np.zeros_like(self.Infected)#reset all to good\n",
    "        self.Infected[seeds]=1\n",
    "        self.infect_dist=dist\n",
    "        self.infect()"
   ]
  },
  {
   "cell_type": "code",
   "execution_count": 54,
   "metadata": {
    "execution": {
     "iopub.execute_input": "2022-05-02T10:14:43.655828Z",
     "iopub.status.busy": "2022-05-02T10:14:43.655666Z",
     "iopub.status.idle": "2022-05-02T10:14:43.665378Z",
     "shell.execute_reply": "2022-05-02T10:14:43.664889Z",
     "shell.execute_reply.started": "2022-05-02T10:14:43.655801Z"
    },
    "tags": []
   },
   "outputs": [],
   "source": [
    "def animate(particles):\n",
    "    # First set up the figure\n",
    "    fig = plt.figure()\n",
    "    ax = plt.axes(xlim=(0, particles.boxsize), ylim=(0, particles.boxsize))\n",
    "    p=copy.deepcopy(particles)\n",
    "    infected=p.Infected>0\n",
    "    line1, =ax.plot(p.X[0][~infected], p.X[1][~infected], 'bo', mfc='None')\n",
    "    line2, =ax.plot(p.X[0][infected], p.X[1][infected], 'ro', mfc='r')\n",
    "    ax.set_title('t=0')\n",
    "    \n",
    "    def init():\n",
    "        nonlocal p\n",
    "        p=copy.deepcopy(particles) #reset p\n",
    "        return line1, line2\n",
    "\n",
    "    #how to evolve the plot\n",
    "    def draw_next(i):\n",
    "        p.walk()\n",
    "        p.infect()\n",
    "        infected=p.Infected>0\n",
    "        line1.set_data(p.X[0][~infected], p.X[1][~infected])\n",
    "        line2.set_data(p.X[0][infected], p.X[1][infected])\n",
    "        ax.set_title('t=%d'%i)\n",
    "        return line1, line2\n",
    "    \n",
    "    # call the animator.  blit=True means only re-draw the parts that have changed.\n",
    "    movie = animation.FuncAnimation(fig, draw_next, init_func=init,\n",
    "                                   frames=150, interval=10, blit=True)\n",
    "\n",
    "    return movie"
   ]
  },
  {
   "cell_type": "code",
   "execution_count": 51,
   "metadata": {
    "execution": {
     "iopub.execute_input": "2022-05-02T10:13:08.220365Z",
     "iopub.status.busy": "2022-05-02T10:13:08.220145Z",
     "iopub.status.idle": "2022-05-02T10:13:08.225354Z",
     "shell.execute_reply": "2022-05-02T10:13:08.224949Z",
     "shell.execute_reply.started": "2022-05-02T10:13:08.220338Z"
    },
    "tags": []
   },
   "outputs": [],
   "source": [
    "p=Particles(20, scatter=0.02, periodic=True ,seed=321)"
   ]
  },
  {
   "cell_type": "code",
   "execution_count": 52,
   "metadata": {
    "execution": {
     "iopub.execute_input": "2022-05-02T10:13:12.101595Z",
     "iopub.status.busy": "2022-05-02T10:13:12.101436Z",
     "iopub.status.idle": "2022-05-02T10:13:12.106485Z",
     "shell.execute_reply": "2022-05-02T10:13:12.106074Z",
     "shell.execute_reply.started": "2022-05-02T10:13:12.101573Z"
    },
    "tags": []
   },
   "outputs": [],
   "source": [
    "p.seed_infection(seeds=[0], dist=0.1)"
   ]
  },
  {
   "cell_type": "code",
   "execution_count": 55,
   "metadata": {
    "execution": {
     "iopub.execute_input": "2022-05-02T10:14:50.207914Z",
     "iopub.status.busy": "2022-05-02T10:14:50.207694Z",
     "iopub.status.idle": "2022-05-02T10:14:50.244369Z",
     "shell.execute_reply": "2022-05-02T10:14:50.243804Z",
     "shell.execute_reply.started": "2022-05-02T10:14:50.207873Z"
    },
    "tags": []
   },
   "outputs": [
    {
     "data": {
      "application/vnd.jupyter.widget-view+json": {
       "model_id": "a773fea331ff47b7ad91e5da1a299510",
       "version_major": 2,
       "version_minor": 0
      },
      "text/plain": [
       "Canvas(toolbar=Toolbar(toolitems=[('Home', 'Reset original view', 'home', 'home'), ('Back', 'Back to previous …"
      ]
     },
     "metadata": {},
     "output_type": "display_data"
    }
   ],
   "source": [
    "m=animate(p)"
   ]
  },
  {
   "cell_type": "code",
   "execution_count": 57,
   "metadata": {
    "execution": {
     "iopub.execute_input": "2022-05-02T10:17:11.692748Z",
     "iopub.status.busy": "2022-05-02T10:17:11.692583Z",
     "iopub.status.idle": "2022-05-02T10:17:21.624228Z",
     "shell.execute_reply": "2022-05-02T10:17:21.623679Z",
     "shell.execute_reply.started": "2022-05-02T10:17:11.692722Z"
    },
    "tags": []
   },
   "outputs": [
    {
     "name": "stderr",
     "output_type": "stream",
     "text": [
      "MovieWriter ffmpeg unavailable; using Pillow instead.\n"
     ]
    }
   ],
   "source": [
    "m.save('BrownianInfection.gif', fps=10)#, extra_args=['-vcodec', 'libx264'])"
   ]
  },
  {
   "cell_type": "code",
   "execution_count": 67,
   "metadata": {
    "execution": {
     "iopub.execute_input": "2022-05-02T11:26:39.202788Z",
     "iopub.status.busy": "2022-05-02T11:26:39.202466Z",
     "iopub.status.idle": "2022-05-02T11:26:39.368500Z",
     "shell.execute_reply": "2022-05-02T11:26:39.368085Z",
     "shell.execute_reply.started": "2022-05-02T11:26:39.202759Z"
    },
    "tags": []
   },
   "outputs": [
    {
     "data": {
      "application/vnd.jupyter.widget-view+json": {
       "model_id": "04cace3a93eb404aadca5543173739b8",
       "version_major": 2,
       "version_minor": 0
      },
      "text/plain": [
       "Canvas(toolbar=Toolbar(toolitems=[('Home', 'Reset original view', 'home', 'home'), ('Back', 'Back to previous …"
      ]
     },
     "metadata": {},
     "output_type": "display_data"
    }
   ],
   "source": [
    "p=Particles(100, scatter=0.02, periodic=True ,seed=321)\n",
    "p.seed_infection(seeds=[0], dist=0.01)\n",
    "f=[]\n",
    "for i in range(200):\n",
    "    p.walk()\n",
    "    p.infect()\n",
    "    f.append(np.sum(p.Infected>0))\n",
    "plt.figure()\n",
    "plt.plot(f)\n",
    "#plt.yscale('log')\n",
    "plt.xlabel('Time')\n",
    "plt.ylabel('Infected')\n",
    "plt.savefig('InfectionGrowth.png')"
   ]
  }
 ],
 "metadata": {
  "kernelspec": {
   "display_name": "mamba-python3",
   "language": "python",
   "name": "mamba-python3"
  },
  "language_info": {
   "codemirror_mode": {
    "name": "ipython",
    "version": 3
   },
   "file_extension": ".py",
   "mimetype": "text/x-python",
   "name": "python",
   "nbconvert_exporter": "python",
   "pygments_lexer": "ipython3",
   "version": "3.7.10"
  }
 },
 "nbformat": 4,
 "nbformat_minor": 4
}
